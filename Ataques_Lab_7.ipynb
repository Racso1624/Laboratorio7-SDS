{
  "cells": [
    {
      "cell_type": "markdown",
      "id": "297b402a",
      "metadata": {
        "id": "297b402a"
      },
      "source": [
        "# Laboratorio 7\n",
        "### Oscar Fernando López Barrios\n",
        "### Carné 20679"
      ]
    },
    {
      "cell_type": "code",
      "execution_count": null,
      "id": "3bqD4CcYbFR5",
      "metadata": {
        "id": "3bqD4CcYbFR5"
      },
      "outputs": [],
      "source": [
        "from google.colab import drive\n",
        "drive.mount('/content/drive')\n",
        "path = \"/content/drive/MyDrive/malimg_paper_dataset_imgs\""
      ]
    },
    {
      "cell_type": "code",
      "execution_count": 15,
      "id": "PSU0qDu7U-SA",
      "metadata": {
        "colab": {
          "base_uri": "https://localhost:8080/"
        },
        "id": "PSU0qDu7U-SA",
        "outputId": "051a16c6-6e05-4fa7-b011-619780317fcc"
      },
      "outputs": [
        {
          "name": "stdout",
          "output_type": "stream",
          "text": [
            "Requirement already satisfied: adversarial-robustness-toolbox in /usr/local/lib/python3.10/dist-packages (1.17.1)\n",
            "Requirement already satisfied: numpy>=1.18.0 in /usr/local/lib/python3.10/dist-packages (from adversarial-robustness-toolbox) (1.25.2)\n",
            "Requirement already satisfied: scipy>=1.4.1 in /usr/local/lib/python3.10/dist-packages (from adversarial-robustness-toolbox) (1.11.4)\n",
            "Requirement already satisfied: scikit-learn>=0.22.2 in /usr/local/lib/python3.10/dist-packages (from adversarial-robustness-toolbox) (1.2.2)\n",
            "Requirement already satisfied: six in /usr/local/lib/python3.10/dist-packages (from adversarial-robustness-toolbox) (1.16.0)\n",
            "Requirement already satisfied: setuptools in /usr/local/lib/python3.10/dist-packages (from adversarial-robustness-toolbox) (67.7.2)\n",
            "Requirement already satisfied: tqdm in /usr/local/lib/python3.10/dist-packages (from adversarial-robustness-toolbox) (4.66.2)\n",
            "Requirement already satisfied: joblib>=1.1.1 in /usr/local/lib/python3.10/dist-packages (from scikit-learn>=0.22.2->adversarial-robustness-toolbox) (1.4.0)\n",
            "Requirement already satisfied: threadpoolctl>=2.0.0 in /usr/local/lib/python3.10/dist-packages (from scikit-learn>=0.22.2->adversarial-robustness-toolbox) (3.5.0)\n"
          ]
        }
      ],
      "source": [
        "!pip install adversarial-robustness-toolbox"
      ]
    },
    {
      "cell_type": "markdown",
      "id": "028c497c",
      "metadata": {},
      "source": [
        "### Ataque 1: Fast Gradient Method\n",
        "\n",
        "El modelo de Fast Gradient Method es una técnica fundamental en el campo del aprendizaje automático, especialmente cuando se trata de evaluar la robustez de los modelos en entornos adversarios.\n",
        "\n",
        "Este método nos permite evaluar qué tan resistente es nuestro modelo ante estos ataques manipulativos. Funciona generando pequeñas perturbaciones en los datos de entrada, imperceptibles para los humanos, pero que pueden causar que el modelo clasifique incorrectamente la imagen.\n",
        "\n",
        "Esta capacidad para generar imágenes \"adversarias\" nos ayuda a entender las debilidades de nuestro modelo y nos permite fortalecerlo. Al evaluar cómo responde nuestro modelo a estas perturbaciones, podemos identificar áreas que necesitan mejorar y desarrollar estrategias para hacer que el modelo sea más robusto frente a tales ataques.\n",
        "\n",
        "En resumen, el Fast Gradient Method es una herramienta esencial para garantizar que nuestros modelos de aprendizaje automático sean confiables y seguros en entornos donde la seguridad es primordial, como en sistemas de reconocimiento de imágenes en aplicaciones médicas o de seguridad."
      ]
    },
    {
      "cell_type": "code",
      "execution_count": 19,
      "id": "22083429",
      "metadata": {
        "colab": {
          "base_uri": "https://localhost:8080/"
        },
        "id": "22083429",
        "outputId": "0ce08fe7-eff3-44d9-a362-2cbac281a2c7"
      },
      "outputs": [
        {
          "name": "stdout",
          "output_type": "stream",
          "text": [
            "Found 9339 images belonging to 25 classes.\n"
          ]
        },
        {
          "name": "stderr",
          "output_type": "stream",
          "text": [
            "/usr/local/lib/python3.10/dist-packages/keras/src/engine/training_v1.py:2359: UserWarning: `Model.state_updates` will be removed in a future version. This property should not be used in TensorFlow 2.0, as `updates` are applied automatically.\n",
            "  updates=self.state_updates,\n"
          ]
        },
        {
          "name": "stdout",
          "output_type": "stream",
          "text": [
            "Accuracy: 0.08234286326159118\n",
            "Precision: 0.08234286326159118\n"
          ]
        }
      ],
      "source": [
        "import numpy as np\n",
        "from tensorflow.keras.models import load_model\n",
        "from art.attacks.evasion import FastGradientMethod\n",
        "from art.estimators.classification import KerasClassifier\n",
        "from tensorflow.keras.preprocessing.image import ImageDataGenerator\n",
        "import tensorflow as tf\n",
        "\n",
        "tf.compat.v1.disable_eager_execution()\n",
        "\n",
        "modelo = load_model('modelo_lab_7.h5')\n",
        "\n",
        "classifier = KerasClassifier(model=modelo, clip_values=(0, 1))\n",
        "\n",
        "fsgm_attack = FastGradientMethod(estimator=classifier, eps=0.1)\n",
        "\n",
        "data = ImageDataGenerator(rescale=1./255)\n",
        "test = data.flow_from_directory(path,\n",
        "    target_size=(64, 64),\n",
        "    batch_size=1,\n",
        "    class_mode='categorical',\n",
        "    shuffle=False)\n",
        "\n",
        "x_test = []\n",
        "y_data = []\n",
        "for i in range(len(test)):\n",
        "    x, y = test[i]\n",
        "    x_adv = fsgm_attack.generate(x=x)\n",
        "    x_test.append(x_adv[0]) \n",
        "    y_data.append(y[0])\n",
        "\n",
        "y_pred = classifier.predict(np.array(x_test))\n",
        "\n",
        "y_pred_indices = np.argmax(y_pred, axis=1)\n",
        "y_data_indices = np.argmax(y_data, axis=1)\n",
        "\n",
        "accuracy = np.mean(y_pred_indices == y_data_indices)\n",
        "print(\"Accuracy:\", accuracy)\n",
        "\n",
        "precision = np.sum(y_pred_indices == y_data_indices) / len(y_data_indices)\n",
        "print(\"Precision:\", precision)"
      ]
    },
    {
      "cell_type": "markdown",
      "id": "139ab15e",
      "metadata": {},
      "source": [
        "### Ataque 2: DeepFool\n",
        "DeepFool es una excelente herramienta para evaluar cuán robusto es nuestro modelo de aprendizaje automático frente a pequeñas perturbaciones en los datos de entrada. Esto es clave, especialmente en aplicaciones donde incluso pequeños cambios en los datos pueden tener un gran impacto en las decisiones del modelo.\n",
        "\n",
        "Mediante el análisis de cómo nuestro modelo responde a las perturbaciones generadas por DeepFool, podemos obtener una comprensión más profunda de sus decisiones y límites. Esta comprensión nos permite identificar áreas de mejora y realizar ajustes para fortalecer nuestro modelo.\n",
        "\n",
        "En conclusión, DeepFool es una herramienta valiosa que nos permite evaluar la robustez y seguridad de nuestros modelos de aprendizaje automático, mejorar su capacidad de generalización y comprensión, y garantizar su eficacia en aplicaciones críticas."
      ]
    },
    {
      "cell_type": "code",
      "execution_count": 20,
      "id": "LOVihyQNcNID",
      "metadata": {
        "colab": {
          "base_uri": "https://localhost:8080/",
          "height": 101,
          "referenced_widgets": [
            "bcfa88083c7845d58770cb3492a43934",
            "46c5d4bde3d84425ba5a1a4a650be562",
            "3da4a5ec19c440e68fa67e49c9290791",
            "e9eba431724947fba83f059e675fc415",
            "44548d49e689442f86b220cbf2f6e39a",
            "6dd0201c956e4802b23cdb376292f3dc",
            "1b3b71f6774b414c89ff828ac52f5ce8",
            "de7bf0e40e964687a587370a70dc2927",
            "7481fd0060a9434da5056fa3b119c731",
            "261caf0d431b4aedbef8c39e71aeeba5",
            "853d1d04bd1146d7916758d674af42c6"
          ]
        },
        "id": "LOVihyQNcNID",
        "outputId": "8d09e7f0-f59d-41c1-fa6f-8f394c455769"
      },
      "outputs": [
        {
          "name": "stderr",
          "output_type": "stream",
          "text": [
            "WARNING:art.estimators.classification.keras:Keras model has no loss set. Classifier tries to use `k.sparse_categorical_crossentropy`.\n"
          ]
        },
        {
          "data": {
            "application/vnd.jupyter.widget-view+json": {
              "model_id": "bcfa88083c7845d58770cb3492a43934",
              "version_major": 2,
              "version_minor": 0
            },
            "text/plain": [
              "DeepFool:   0%|          | 0/1 [00:00<?, ?it/s]"
            ]
          },
          "metadata": {},
          "output_type": "display_data"
        },
        {
          "name": "stdout",
          "output_type": "stream",
          "text": [
            "Accuracy: 0.0\n",
            "Precision: 0.0\n"
          ]
        }
      ],
      "source": [
        "from art.estimators.classification import KerasClassifier\n",
        "from art.attacks.evasion import DeepFool\n",
        "\n",
        "model_logits = tf.keras.Model(inputs=modelo.input, outputs=modelo.layers[-2].output)\n",
        "\n",
        "classifier = KerasClassifier(model=model_logits, use_logits=True, clip_values=(0, 1))\n",
        "\n",
        "attack = DeepFool(classifier=classifier)\n",
        "\n",
        "x_test, y_test = next(test)\n",
        "x_test_adv = attack.generate(x=x_test)\n",
        "\n",
        "y_pred_adv = classifier.predict(x_test_adv)\n",
        "\n",
        "y_pred_adv_indices = np.argmax(y_pred_adv, axis=1)\n",
        "y_true_indices = np.argmax(y_test, axis=1)\n",
        "\n",
        "accuracy = np.mean(y_pred_adv_indices == y_true_indices)\n",
        "print(\"Accuracy:\", accuracy)\n",
        "\n",
        "precision = np.sum(y_pred_adv_indices == y_true_indices) / len(y_true_indices)\n",
        "print(\"Precision:\", precision)"
      ]
    }
  ],
  "metadata": {
    "accelerator": "GPU",
    "colab": {
      "gpuType": "T4",
      "provenance": []
    },
    "kernelspec": {
      "display_name": "Python 3",
      "name": "python3"
    },
    "language_info": {
      "codemirror_mode": {
        "name": "ipython",
        "version": 3
      },
      "file_extension": ".py",
      "mimetype": "text/x-python",
      "name": "python",
      "nbconvert_exporter": "python",
      "pygments_lexer": "ipython3",
      "version": "3.11.5"
    },
    "widgets": {
      "application/vnd.jupyter.widget-state+json": {
        "1b3b71f6774b414c89ff828ac52f5ce8": {
          "model_module": "@jupyter-widgets/controls",
          "model_module_version": "1.5.0",
          "model_name": "DescriptionStyleModel",
          "state": {
            "_model_module": "@jupyter-widgets/controls",
            "_model_module_version": "1.5.0",
            "_model_name": "DescriptionStyleModel",
            "_view_count": null,
            "_view_module": "@jupyter-widgets/base",
            "_view_module_version": "1.2.0",
            "_view_name": "StyleView",
            "description_width": ""
          }
        },
        "261caf0d431b4aedbef8c39e71aeeba5": {
          "model_module": "@jupyter-widgets/base",
          "model_module_version": "1.2.0",
          "model_name": "LayoutModel",
          "state": {
            "_model_module": "@jupyter-widgets/base",
            "_model_module_version": "1.2.0",
            "_model_name": "LayoutModel",
            "_view_count": null,
            "_view_module": "@jupyter-widgets/base",
            "_view_module_version": "1.2.0",
            "_view_name": "LayoutView",
            "align_content": null,
            "align_items": null,
            "align_self": null,
            "border": null,
            "bottom": null,
            "display": null,
            "flex": null,
            "flex_flow": null,
            "grid_area": null,
            "grid_auto_columns": null,
            "grid_auto_flow": null,
            "grid_auto_rows": null,
            "grid_column": null,
            "grid_gap": null,
            "grid_row": null,
            "grid_template_areas": null,
            "grid_template_columns": null,
            "grid_template_rows": null,
            "height": null,
            "justify_content": null,
            "justify_items": null,
            "left": null,
            "margin": null,
            "max_height": null,
            "max_width": null,
            "min_height": null,
            "min_width": null,
            "object_fit": null,
            "object_position": null,
            "order": null,
            "overflow": null,
            "overflow_x": null,
            "overflow_y": null,
            "padding": null,
            "right": null,
            "top": null,
            "visibility": null,
            "width": null
          }
        },
        "3da4a5ec19c440e68fa67e49c9290791": {
          "model_module": "@jupyter-widgets/controls",
          "model_module_version": "1.5.0",
          "model_name": "FloatProgressModel",
          "state": {
            "_dom_classes": [],
            "_model_module": "@jupyter-widgets/controls",
            "_model_module_version": "1.5.0",
            "_model_name": "FloatProgressModel",
            "_view_count": null,
            "_view_module": "@jupyter-widgets/controls",
            "_view_module_version": "1.5.0",
            "_view_name": "ProgressView",
            "bar_style": "success",
            "description": "",
            "description_tooltip": null,
            "layout": "IPY_MODEL_de7bf0e40e964687a587370a70dc2927",
            "max": 1,
            "min": 0,
            "orientation": "horizontal",
            "style": "IPY_MODEL_7481fd0060a9434da5056fa3b119c731",
            "value": 1
          }
        },
        "44548d49e689442f86b220cbf2f6e39a": {
          "model_module": "@jupyter-widgets/base",
          "model_module_version": "1.2.0",
          "model_name": "LayoutModel",
          "state": {
            "_model_module": "@jupyter-widgets/base",
            "_model_module_version": "1.2.0",
            "_model_name": "LayoutModel",
            "_view_count": null,
            "_view_module": "@jupyter-widgets/base",
            "_view_module_version": "1.2.0",
            "_view_name": "LayoutView",
            "align_content": null,
            "align_items": null,
            "align_self": null,
            "border": null,
            "bottom": null,
            "display": null,
            "flex": null,
            "flex_flow": null,
            "grid_area": null,
            "grid_auto_columns": null,
            "grid_auto_flow": null,
            "grid_auto_rows": null,
            "grid_column": null,
            "grid_gap": null,
            "grid_row": null,
            "grid_template_areas": null,
            "grid_template_columns": null,
            "grid_template_rows": null,
            "height": null,
            "justify_content": null,
            "justify_items": null,
            "left": null,
            "margin": null,
            "max_height": null,
            "max_width": null,
            "min_height": null,
            "min_width": null,
            "object_fit": null,
            "object_position": null,
            "order": null,
            "overflow": null,
            "overflow_x": null,
            "overflow_y": null,
            "padding": null,
            "right": null,
            "top": null,
            "visibility": null,
            "width": null
          }
        },
        "46c5d4bde3d84425ba5a1a4a650be562": {
          "model_module": "@jupyter-widgets/controls",
          "model_module_version": "1.5.0",
          "model_name": "HTMLModel",
          "state": {
            "_dom_classes": [],
            "_model_module": "@jupyter-widgets/controls",
            "_model_module_version": "1.5.0",
            "_model_name": "HTMLModel",
            "_view_count": null,
            "_view_module": "@jupyter-widgets/controls",
            "_view_module_version": "1.5.0",
            "_view_name": "HTMLView",
            "description": "",
            "description_tooltip": null,
            "layout": "IPY_MODEL_6dd0201c956e4802b23cdb376292f3dc",
            "placeholder": "​",
            "style": "IPY_MODEL_1b3b71f6774b414c89ff828ac52f5ce8",
            "value": "DeepFool: 100%"
          }
        },
        "6dd0201c956e4802b23cdb376292f3dc": {
          "model_module": "@jupyter-widgets/base",
          "model_module_version": "1.2.0",
          "model_name": "LayoutModel",
          "state": {
            "_model_module": "@jupyter-widgets/base",
            "_model_module_version": "1.2.0",
            "_model_name": "LayoutModel",
            "_view_count": null,
            "_view_module": "@jupyter-widgets/base",
            "_view_module_version": "1.2.0",
            "_view_name": "LayoutView",
            "align_content": null,
            "align_items": null,
            "align_self": null,
            "border": null,
            "bottom": null,
            "display": null,
            "flex": null,
            "flex_flow": null,
            "grid_area": null,
            "grid_auto_columns": null,
            "grid_auto_flow": null,
            "grid_auto_rows": null,
            "grid_column": null,
            "grid_gap": null,
            "grid_row": null,
            "grid_template_areas": null,
            "grid_template_columns": null,
            "grid_template_rows": null,
            "height": null,
            "justify_content": null,
            "justify_items": null,
            "left": null,
            "margin": null,
            "max_height": null,
            "max_width": null,
            "min_height": null,
            "min_width": null,
            "object_fit": null,
            "object_position": null,
            "order": null,
            "overflow": null,
            "overflow_x": null,
            "overflow_y": null,
            "padding": null,
            "right": null,
            "top": null,
            "visibility": null,
            "width": null
          }
        },
        "7481fd0060a9434da5056fa3b119c731": {
          "model_module": "@jupyter-widgets/controls",
          "model_module_version": "1.5.0",
          "model_name": "ProgressStyleModel",
          "state": {
            "_model_module": "@jupyter-widgets/controls",
            "_model_module_version": "1.5.0",
            "_model_name": "ProgressStyleModel",
            "_view_count": null,
            "_view_module": "@jupyter-widgets/base",
            "_view_module_version": "1.2.0",
            "_view_name": "StyleView",
            "bar_color": null,
            "description_width": ""
          }
        },
        "853d1d04bd1146d7916758d674af42c6": {
          "model_module": "@jupyter-widgets/controls",
          "model_module_version": "1.5.0",
          "model_name": "DescriptionStyleModel",
          "state": {
            "_model_module": "@jupyter-widgets/controls",
            "_model_module_version": "1.5.0",
            "_model_name": "DescriptionStyleModel",
            "_view_count": null,
            "_view_module": "@jupyter-widgets/base",
            "_view_module_version": "1.2.0",
            "_view_name": "StyleView",
            "description_width": ""
          }
        },
        "bcfa88083c7845d58770cb3492a43934": {
          "model_module": "@jupyter-widgets/controls",
          "model_module_version": "1.5.0",
          "model_name": "HBoxModel",
          "state": {
            "_dom_classes": [],
            "_model_module": "@jupyter-widgets/controls",
            "_model_module_version": "1.5.0",
            "_model_name": "HBoxModel",
            "_view_count": null,
            "_view_module": "@jupyter-widgets/controls",
            "_view_module_version": "1.5.0",
            "_view_name": "HBoxView",
            "box_style": "",
            "children": [
              "IPY_MODEL_46c5d4bde3d84425ba5a1a4a650be562",
              "IPY_MODEL_3da4a5ec19c440e68fa67e49c9290791",
              "IPY_MODEL_e9eba431724947fba83f059e675fc415"
            ],
            "layout": "IPY_MODEL_44548d49e689442f86b220cbf2f6e39a"
          }
        },
        "de7bf0e40e964687a587370a70dc2927": {
          "model_module": "@jupyter-widgets/base",
          "model_module_version": "1.2.0",
          "model_name": "LayoutModel",
          "state": {
            "_model_module": "@jupyter-widgets/base",
            "_model_module_version": "1.2.0",
            "_model_name": "LayoutModel",
            "_view_count": null,
            "_view_module": "@jupyter-widgets/base",
            "_view_module_version": "1.2.0",
            "_view_name": "LayoutView",
            "align_content": null,
            "align_items": null,
            "align_self": null,
            "border": null,
            "bottom": null,
            "display": null,
            "flex": null,
            "flex_flow": null,
            "grid_area": null,
            "grid_auto_columns": null,
            "grid_auto_flow": null,
            "grid_auto_rows": null,
            "grid_column": null,
            "grid_gap": null,
            "grid_row": null,
            "grid_template_areas": null,
            "grid_template_columns": null,
            "grid_template_rows": null,
            "height": null,
            "justify_content": null,
            "justify_items": null,
            "left": null,
            "margin": null,
            "max_height": null,
            "max_width": null,
            "min_height": null,
            "min_width": null,
            "object_fit": null,
            "object_position": null,
            "order": null,
            "overflow": null,
            "overflow_x": null,
            "overflow_y": null,
            "padding": null,
            "right": null,
            "top": null,
            "visibility": null,
            "width": null
          }
        },
        "e9eba431724947fba83f059e675fc415": {
          "model_module": "@jupyter-widgets/controls",
          "model_module_version": "1.5.0",
          "model_name": "HTMLModel",
          "state": {
            "_dom_classes": [],
            "_model_module": "@jupyter-widgets/controls",
            "_model_module_version": "1.5.0",
            "_model_name": "HTMLModel",
            "_view_count": null,
            "_view_module": "@jupyter-widgets/controls",
            "_view_module_version": "1.5.0",
            "_view_name": "HTMLView",
            "description": "",
            "description_tooltip": null,
            "layout": "IPY_MODEL_261caf0d431b4aedbef8c39e71aeeba5",
            "placeholder": "​",
            "style": "IPY_MODEL_853d1d04bd1146d7916758d674af42c6",
            "value": " 1/1 [00:02&lt;00:00,  2.41s/it]"
          }
        }
      }
    }
  },
  "nbformat": 4,
  "nbformat_minor": 5
}
